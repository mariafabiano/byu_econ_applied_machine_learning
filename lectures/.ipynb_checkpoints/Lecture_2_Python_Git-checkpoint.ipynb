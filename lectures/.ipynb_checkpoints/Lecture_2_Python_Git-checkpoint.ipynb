{
 "cells": [
  {
   "cell_type": "markdown",
   "metadata": {},
   "source": [
    "## Installing Python\n",
    "\n",
    "I highly recommend installing Python using the [Anaconda distribution](https://conda.io/docs/user-guide/install/index.html). It comes with almost all of the packages we will need for this class and pretty much just works. Windows users should especially be grateful as installing Python on Windows used to be an enormous pain...\n",
    "\n",
    "## IPython vs Python\n",
    "\n",
    "Ipython is what makes Python interactive. Meaning that you can type some code, get some results, and then type some more code. This is very useful for exploring data because you don't always know what you are looking for and it can be annoying to have to run your entire program every time you make changes.\n",
    "\n",
    "## Jupyter Notebooks\n",
    "\n",
    "As you may have noticed, I write all my lectures in jupyter notebooks. These notebooks wrap Ipython with a web editor that allow one to mix code and markdown in one place. While they are not perfect, they offer a lot of benefits for data scientists. I would recommend doing most of your homework in notebooks. To start a notebook, open your terminal, navigate to the folder and type \"jupyter notebook\" then hit enter. That will open up the notebook! Then in the top right click \"New\" and select \"Python 3\" and you should be good to go. \n",
    "\n",
    "There are a lot of things that notebooks can do, but we will not cover them all here. The most basic thing is toggling a cell type by selecting \"Cell\" from the menu. Then \"Cell Type.\" This allows you to change cells from code to markdown and visa versa.\n",
    "\n",
    "To learn more use Google or here is a [decent guide.](https://www.datacamp.com/community/tutorials/tutorial-jupyter-notebook##UseJupyter)\n",
    "\n",
    "## The Terminal\n",
    "\n",
    "Some of you might not be very familiar with the terminal on your computer. I would say it is worth investing some time to learn basic commands. For Mac / Linux users [here](https://computers.tutsplus.com/tutorials/navigating-the-terminal-a-gentle-introduction--mac-3855) is a pretty gentle introduction. I found [something similar](https://www.bleepingcomputer.com/tutorials/windows-command-prompt-introduction/) for Windows, but I am not a Windows user, so I am not sure how good it is. Please feel free to open a pull request if you have a better resource for Windows.\n",
    "\n",
    "## Git and GitHub/BitBucket\n",
    "\n",
    "Git is an amazing tool for software development. It allows for pretty easy version control and collaboration.\n",
    "\n",
    "First, install Git by following [this guide](https://www.atlassian.com/git/tutorials/install-git).\n",
    "\n",
    "Then, [learn](https://www.atlassian.com/git/tutorials/what-is-version-control) why it is useful.\n",
    "\n",
    "Lastly, figure out [how to use it](https://www.atlassian.com/git/tutorials/setting-up-a-repository).\n",
    "\n",
    "## Native Python for Science\n",
    "\n",
    "Let's see what Python looks like! First, you will notice that Python makes use of whitespace and does not use ; like some other languages."
   ]
  },
  {
   "cell_type": "code",
   "execution_count": 1,
   "metadata": {
    "collapsed": false
   },
   "outputs": [
    {
     "name": "stdout",
     "output_type": "stream",
     "text": [
      "15\n"
     ]
    }
   ],
   "source": [
    "x = 5\n",
    "y = 10\n",
    "print(x+y)"
   ]
  },
  {
   "cell_type": "markdown",
   "metadata": {},
   "source": [
    "We will make use of many libraries. Some are pre-installed with Python, even more come with Anaconda, and some we will have to install ourselves. To get a library use an import statement:"
   ]
  },
  {
   "cell_type": "code",
   "execution_count": 2,
   "metadata": {
    "collapsed": true
   },
   "outputs": [],
   "source": [
    "from collections import Counter"
   ]
  },
  {
   "cell_type": "markdown",
   "metadata": {},
   "source": [
    "This command imports the class \"Counter\" from the \"collections\" library. Counter is actually a really useful tool for data scientists. It can count the number of times items appear in collections like lists. Lists are a useful data structure to store data. For example:"
   ]
  },
  {
   "cell_type": "code",
   "execution_count": 3,
   "metadata": {
    "collapsed": false
   },
   "outputs": [
    {
     "data": {
      "text/plain": [
       "[(22, 2), (24, 2), (25, 2)]"
      ]
     },
     "execution_count": 3,
     "metadata": {},
     "output_type": "execute_result"
    }
   ],
   "source": [
    "marriage_ages = [22, 22, 25, 25, 30, 24, 26, 24, 35]\n",
    "value_counts = Counter(marriage_ages)\n",
    "value_counts.most_common(3)"
   ]
  },
  {
   "cell_type": "markdown",
   "metadata": {},
   "source": [
    "**Functions** are also very useful."
   ]
  },
  {
   "cell_type": "code",
   "execution_count": 4,
   "metadata": {
    "collapsed": false
   },
   "outputs": [
    {
     "name": "stdout",
     "output_type": "stream",
     "text": [
      "(105, 110)\n"
     ]
    }
   ],
   "source": [
    "def add_two_numbers(x, y):\n",
    "    z = x + y\n",
    "    return z, z+5\n",
    "print(add_two_numbers(100,5))"
   ]
  },
  {
   "cell_type": "markdown",
   "metadata": {},
   "source": [
    "Functions can also be anonymous."
   ]
  },
  {
   "cell_type": "code",
   "execution_count": 5,
   "metadata": {
    "collapsed": false
   },
   "outputs": [
    {
     "name": "stdout",
     "output_type": "stream",
     "text": [
      "10\n"
     ]
    }
   ],
   "source": [
    "y = lambda x, y: x + y\n",
    "print(y(5,5))"
   ]
  },
  {
   "cell_type": "markdown",
   "metadata": {},
   "source": [
    "**Lists** are an extremely useful data structure in Python. When slicing the first number is included in the return set while the last number is not."
   ]
  },
  {
   "cell_type": "code",
   "execution_count": 6,
   "metadata": {
    "collapsed": false
   },
   "outputs": [
    {
     "name": "stdout",
     "output_type": "stream",
     "text": [
      "[1, 5, 3, 6, 4]\n",
      "48\n",
      "12\n",
      "12\n",
      "[10, 12]\n",
      "[3, 6, 4]\n",
      "False\n",
      "True\n",
      "[1, 5, 3, 6, 4, 7, 10, 12, 44]\n",
      "[1, 5, 3, 6, 4, 7, 10, 12, 44, 100, 200]\n",
      "[1, 5, 3, 6, 100, 7, 10, 12, 44, 100, 200]\n"
     ]
    }
   ],
   "source": [
    "depths = [1, 5, 3, 6, 4, 7, 10, 12]\n",
    "first_5_depths = depths[:5]\n",
    "\n",
    "print(first_5_depths)\n",
    "print(sum(depths))\n",
    "print(max(depths))\n",
    "print(depths[-1])\n",
    "print(depths[-2:])\n",
    "print(depths[2:5])\n",
    "print(22 in depths)\n",
    "print(1 in depths)\n",
    "\n",
    "depths.append(44)\n",
    "print(depths)\n",
    "depths.extend([100, 200])\n",
    "print(depths)\n",
    "\n",
    "depths[4] = 100\n",
    "print(depths)"
   ]
  },
  {
   "cell_type": "markdown",
   "metadata": {},
   "source": [
    "**Dictionaries** are key, value pairs."
   ]
  },
  {
   "cell_type": "code",
   "execution_count": 7,
   "metadata": {
    "collapsed": false
   },
   "outputs": [
    {
     "name": "stdout",
     "output_type": "stream",
     "text": [
      "22\n",
      "True\n",
      "False\n",
      "22\n",
      "1\n",
      "['siblings', 'age', 'name', 'birth_year']\n",
      "[['jill', 'jen'], 22, 'jack', 1999]\n",
      "[('siblings', ['jill', 'jen']), ('age', 22), ('name', 'jack'), ('birth_year', 1999)]\n"
     ]
    }
   ],
   "source": [
    "my_dict = {\"age\": 22, \"birth_year\": 1999, \"name\": \"jack\", \"siblings\": [\"jill\", \"jen\"]}\n",
    "print(my_dict['age'])\n",
    "print('age' in my_dict)\n",
    "print('company' in my_dict)\n",
    "print(my_dict.get('age'))\n",
    "print(my_dict.get('company', 1))\n",
    "print(my_dict.keys())\n",
    "print(my_dict.values())\n",
    "print(my_dict.items())"
   ]
  },
  {
   "cell_type": "code",
   "execution_count": 8,
   "metadata": {
    "collapsed": false
   },
   "outputs": [
    {
     "name": "stdout",
     "output_type": "stream",
     "text": [
      "5\n",
      "2\n",
      "(5, 2)\n"
     ]
    }
   ],
   "source": [
    "x, y = (5, 2)\n",
    "z = (5,2)\n",
    "print(x)\n",
    "print(y)\n",
    "print(z)"
   ]
  },
  {
   "cell_type": "markdown",
   "metadata": {},
   "source": [
    "Default dictionaries give you default values when nothing is there."
   ]
  },
  {
   "cell_type": "code",
   "execution_count": 9,
   "metadata": {
    "collapsed": true
   },
   "outputs": [],
   "source": [
    "from collections import defaultdict"
   ]
  },
  {
   "cell_type": "code",
   "execution_count": 10,
   "metadata": {
    "collapsed": false
   },
   "outputs": [
    {
     "name": "stdout",
     "output_type": "stream",
     "text": [
      "0\n"
     ]
    }
   ],
   "source": [
    "my_default_dict = defaultdict(int)\n",
    "my_default_dict['age'] = 22\n",
    "print(my_default_dict['company'])"
   ]
  },
  {
   "cell_type": "markdown",
   "metadata": {},
   "source": [
    "**Sets** are an unordered collection of unique and immutable objects."
   ]
  },
  {
   "cell_type": "code",
   "execution_count": 11,
   "metadata": {
    "collapsed": false
   },
   "outputs": [
    {
     "name": "stdout",
     "output_type": "stream",
     "text": [
      "set([1, 2])\n"
     ]
    }
   ],
   "source": [
    "my_set = set()\n",
    "my_set.add(1)\n",
    "my_set.add(2)\n",
    "my_set.add(1)\n",
    "print(my_set)"
   ]
  },
  {
   "cell_type": "markdown",
   "metadata": {},
   "source": [
    "**If, then statements**"
   ]
  },
  {
   "cell_type": "code",
   "execution_count": 12,
   "metadata": {
    "collapsed": false
   },
   "outputs": [
    {
     "name": "stdout",
     "output_type": "stream",
     "text": [
      "Other\n"
     ]
    }
   ],
   "source": [
    "age = 22\n",
    "if age > 40:\n",
    "    print(\"Older than 40\")\n",
    "elif age > 30 and age <= 40:\n",
    "    print(\"Between 30 and 40\")\n",
    "else:\n",
    "    print(\"Other\")"
   ]
  },
  {
   "cell_type": "markdown",
   "metadata": {},
   "source": [
    "**For loops** Start from 0."
   ]
  },
  {
   "cell_type": "code",
   "execution_count": 13,
   "metadata": {
    "collapsed": false
   },
   "outputs": [
    {
     "name": "stdout",
     "output_type": "stream",
     "text": [
      "tyler\n",
      "karen\n",
      "jill\n"
     ]
    }
   ],
   "source": [
    "names = ['tyler', 'karen', 'jill']\n",
    "for name in names:\n",
    "    print(name)"
   ]
  },
  {
   "cell_type": "markdown",
   "metadata": {},
   "source": [
    "**Sorting**"
   ]
  },
  {
   "cell_type": "code",
   "execution_count": 14,
   "metadata": {
    "collapsed": false
   },
   "outputs": [
    {
     "name": "stdout",
     "output_type": "stream",
     "text": [
      "[-5, 1, 2, 10, 22]\n"
     ]
    }
   ],
   "source": [
    "my_list = [2, 10, 1, -5, 22]\n",
    "my_list.sort()\n",
    "print(my_list)"
   ]
  },
  {
   "cell_type": "code",
   "execution_count": 15,
   "metadata": {
    "collapsed": false
   },
   "outputs": [
    {
     "name": "stdout",
     "output_type": "stream",
     "text": [
      "[22, 10, 2, 1, -5]\n",
      "[1, 2, -5, 10, 22]\n"
     ]
    }
   ],
   "source": [
    "my_list = [2, 10, 1, -5, 22]\n",
    "my_list_sorted = sorted(my_list, reverse=True)\n",
    "print(my_list_sorted)\n",
    "my_func = lambda x: abs(x)\n",
    "my_list_sorted_abs = sorted(my_list, key=my_func)\n",
    "print(my_list_sorted_abs)"
   ]
  },
  {
   "cell_type": "markdown",
   "metadata": {},
   "source": [
    "**List Comprehensions**"
   ]
  },
  {
   "cell_type": "code",
   "execution_count": 16,
   "metadata": {
    "collapsed": false
   },
   "outputs": [
    {
     "name": "stdout",
     "output_type": "stream",
     "text": [
      "[6, 7, 8, 9, 10, 11, 12, 13, 14]\n",
      "[1, 2, 3, 4, 5]\n",
      "{0: 1, 1: 2, 2: 3, 3: 4, 4: 5}\n"
     ]
    }
   ],
   "source": [
    "numbers_gt_5 = [x for x in range(15) if x > 5]\n",
    "print(numbers_gt_5)\n",
    "nums_plus_one = [x + 1 for x in range(5)]\n",
    "print(nums_plus_one)\n",
    "my_dict = {x: x+1 for x in range(5)}\n",
    "print(my_dict)"
   ]
  },
  {
   "cell_type": "markdown",
   "metadata": {},
   "source": [
    "**Enumerate**"
   ]
  },
  {
   "cell_type": "code",
   "execution_count": 17,
   "metadata": {
    "collapsed": false,
    "scrolled": true
   },
   "outputs": [
    {
     "name": "stdout",
     "output_type": "stream",
     "text": [
      "Index: 0, Value: 5\n",
      "Index: 1, Value: 6\n",
      "Index: 2, Value: 7\n",
      "Index: 3, Value: 8\n",
      "Index: 4, Value: 9\n"
     ]
    }
   ],
   "source": [
    "i = 0 \n",
    "for i, x in enumerate(range(5, 10)):\n",
    "    print(\"Index: {0}, Value: {1}\".format(i,x))"
   ]
  },
  {
   "cell_type": "markdown",
   "metadata": {},
   "source": [
    "**Zipping**"
   ]
  },
  {
   "cell_type": "code",
   "execution_count": 18,
   "metadata": {
    "collapsed": false
   },
   "outputs": [
    {
     "name": "stdout",
     "output_type": "stream",
     "text": [
      "(1, 'x')\n",
      "(2, 'y')\n",
      "(3, 'z')\n",
      "{1: 'x', 2: 'y', 3: 'z'}\n"
     ]
    }
   ],
   "source": [
    "list_1 = [1, 2, 3]\n",
    "list_2 = ['x', 'y', 'z']\n",
    "for t in zip(list_1, list_2):\n",
    "    print(t)\n",
    "print(dict(zip(list_1, list_2)))"
   ]
  },
  {
   "cell_type": "code",
   "execution_count": 19,
   "metadata": {
    "collapsed": false
   },
   "outputs": [
    {
     "name": "stdout",
     "output_type": "stream",
     "text": [
      "('x', 'y', 'z')\n",
      "(1, 2, 3)\n"
     ]
    }
   ],
   "source": [
    "pairs = [('x', 1), ('y', 2), ('z', 3)]\n",
    "letters, numbers = zip(*pairs)\n",
    "print(letters)\n",
    "print(numbers)"
   ]
  },
  {
   "cell_type": "markdown",
   "metadata": {},
   "source": [
    "## The data science stack (not including deep learning)\n",
    "\n",
    "* [Pandas](http://pandas.pydata.org/) - Provides R like data structures and a high level API to work with data\n",
    "* [Numpy](http://www.numpy.org/)- Provides fast numerical computing such as arrays and linear algebra\n",
    "* [Scipy](https://www.scipy.org/) - For scientific computing such as drawing from distributions\n",
    "* [Matplotlib](https://matplotlib.org/) - For plotting\n",
    "* [Seaborn](https://seaborn.pydata.org/) - To make your plots look better\n",
    "* [Scikit-Learn](http://scikit-learn.org/stable/) - For machine learning; great documentation and tutorials\n",
    "* [Statsmodels](http://www.statsmodels.org/stable/index.html) - For more traditional statistics"
   ]
  },
  {
   "cell_type": "markdown",
   "metadata": {
    "collapsed": true
   },
   "source": [
    "**Quick Intro to Numpy**"
   ]
  },
  {
   "cell_type": "code",
   "execution_count": 20,
   "metadata": {
    "collapsed": true
   },
   "outputs": [],
   "source": [
    "import numpy as np"
   ]
  },
  {
   "cell_type": "code",
   "execution_count": 21,
   "metadata": {
    "collapsed": true
   },
   "outputs": [],
   "source": [
    "np_array = np.array([5, 10, 15, 20, 25, 30])"
   ]
  },
  {
   "cell_type": "code",
   "execution_count": 22,
   "metadata": {
    "collapsed": false
   },
   "outputs": [
    {
     "name": "stdout",
     "output_type": "stream",
     "text": [
      "[ 5 10 15 20 25 30]\n",
      "8.5391256383\n",
      "30\n",
      "[ 25 100 225 400 625 900]\n",
      "[10 20 30 40 50 60]\n",
      "2275\n",
      "(6,)\n"
     ]
    }
   ],
   "source": [
    "print(np.unique(np_array))\n",
    "print(np.std(np_array))\n",
    "print(np_array.max())\n",
    "print(np_array ** 2)\n",
    "print(np_array + np_array)\n",
    "print(np.sum(np_array ** 2))\n",
    "print(np_array.shape)"
   ]
  },
  {
   "cell_type": "markdown",
   "metadata": {},
   "source": [
    "Dot product"
   ]
  },
  {
   "cell_type": "code",
   "execution_count": 23,
   "metadata": {
    "collapsed": false
   },
   "outputs": [
    {
     "data": {
      "text/plain": [
       "2275"
      ]
     },
     "execution_count": 23,
     "metadata": {},
     "output_type": "execute_result"
    }
   ],
   "source": [
    "np.dot(np_array, np_array)"
   ]
  },
  {
   "cell_type": "markdown",
   "metadata": {},
   "source": [
    "2d array"
   ]
  },
  {
   "cell_type": "code",
   "execution_count": 24,
   "metadata": {
    "collapsed": false
   },
   "outputs": [
    {
     "name": "stdout",
     "output_type": "stream",
     "text": [
      "[[1 2 3]\n",
      " [4 5 6]]\n"
     ]
    }
   ],
   "source": [
    "np_2d_array = np.array([[1,2,3], \n",
    "                        [4,5,6]])\n",
    "print(np_2d_array)"
   ]
  },
  {
   "cell_type": "code",
   "execution_count": 25,
   "metadata": {
    "collapsed": false
   },
   "outputs": [
    {
     "name": "stdout",
     "output_type": "stream",
     "text": [
      "[[1 4]\n",
      " [2 5]\n",
      " [3 6]]\n"
     ]
    }
   ],
   "source": [
    "print(np_2d_array.T)"
   ]
  },
  {
   "cell_type": "code",
   "execution_count": 26,
   "metadata": {
    "collapsed": false
   },
   "outputs": [
    {
     "name": "stdout",
     "output_type": "stream",
     "text": [
      "(2, 3)\n"
     ]
    }
   ],
   "source": [
    "print(np_2d_array.shape)"
   ]
  },
  {
   "cell_type": "code",
   "execution_count": 27,
   "metadata": {
    "collapsed": false
   },
   "outputs": [
    {
     "name": "stdout",
     "output_type": "stream",
     "text": [
      "5\n",
      "3\n"
     ]
    }
   ],
   "source": [
    "print(np_2d_array[1,1])\n",
    "print(np_2d_array[0,2])"
   ]
  },
  {
   "cell_type": "markdown",
   "metadata": {},
   "source": [
    "[Randomness and choosing](https://docs.scipy.org/doc/numpy-1.13.0/reference/routines.random.html)"
   ]
  },
  {
   "cell_type": "code",
   "execution_count": 28,
   "metadata": {
    "collapsed": false
   },
   "outputs": [
    {
     "data": {
      "text/plain": [
       "0.6341381996751932"
      ]
     },
     "execution_count": 28,
     "metadata": {},
     "output_type": "execute_result"
    }
   ],
   "source": [
    "np.random.rand()"
   ]
  },
  {
   "cell_type": "code",
   "execution_count": 29,
   "metadata": {
    "collapsed": false
   },
   "outputs": [
    {
     "data": {
      "text/plain": [
       "array([3, 5])"
      ]
     },
     "execution_count": 29,
     "metadata": {},
     "output_type": "execute_result"
    }
   ],
   "source": [
    "np.random.choice([1,2,3,4,5], 2, replace=False)"
   ]
  },
  {
   "cell_type": "code",
   "execution_count": 30,
   "metadata": {
    "collapsed": false
   },
   "outputs": [
    {
     "name": "stdout",
     "output_type": "stream",
     "text": [
      "[4, 5, 3, 2, 1]\n"
     ]
    }
   ],
   "source": [
    "x = [1,2,3,4,5]\n",
    "np.random.shuffle(x)\n",
    "print(x)"
   ]
  },
  {
   "cell_type": "code",
   "execution_count": 31,
   "metadata": {
    "collapsed": false
   },
   "outputs": [
    {
     "data": {
      "text/plain": [
       "array([10,  7])"
      ]
     },
     "execution_count": 31,
     "metadata": {},
     "output_type": "execute_result"
    }
   ],
   "source": [
    "np.random.randint(5, 15, 2)"
   ]
  },
  {
   "cell_type": "markdown",
   "metadata": {},
   "source": [
    "**Quick Scipy Stats Intro** More information [here](https://docs.scipy.org/doc/scipy/reference/stats.html)"
   ]
  },
  {
   "cell_type": "code",
   "execution_count": 32,
   "metadata": {
    "collapsed": true
   },
   "outputs": [],
   "source": [
    "from scipy import stats"
   ]
  },
  {
   "cell_type": "code",
   "execution_count": 33,
   "metadata": {
    "collapsed": false
   },
   "outputs": [
    {
     "data": {
      "text/plain": [
       "(1.0, 0.0)"
      ]
     },
     "execution_count": 33,
     "metadata": {},
     "output_type": "execute_result"
    }
   ],
   "source": [
    "stats.pearsonr(np_array, np_array)"
   ]
  },
  {
   "cell_type": "markdown",
   "metadata": {},
   "source": [
    "Normal Distribution"
   ]
  },
  {
   "cell_type": "code",
   "execution_count": 34,
   "metadata": {
    "collapsed": false
   },
   "outputs": [],
   "source": [
    "x = stats.norm.rvs(loc=0, scale=1, size=5)"
   ]
  },
  {
   "cell_type": "code",
   "execution_count": 35,
   "metadata": {
    "collapsed": false
   },
   "outputs": [
    {
     "data": {
      "text/plain": [
       "7.6945986267064199e-23"
      ]
     },
     "execution_count": 35,
     "metadata": {},
     "output_type": "execute_result"
    }
   ],
   "source": [
    "stats.norm.pdf(x=-10, loc=0, scale=1)"
   ]
  },
  {
   "cell_type": "code",
   "execution_count": 36,
   "metadata": {
    "collapsed": false
   },
   "outputs": [
    {
     "data": {
      "text/plain": [
       "0.5"
      ]
     },
     "execution_count": 36,
     "metadata": {},
     "output_type": "execute_result"
    }
   ],
   "source": [
    "stats.norm.cdf(x=0, loc=0, scale=1)"
   ]
  },
  {
   "cell_type": "code",
   "execution_count": 37,
   "metadata": {
    "collapsed": false
   },
   "outputs": [
    {
     "name": "stderr",
     "output_type": "stream",
     "text": [
      "/Users/tfolkman/anaconda3/envs/ana2/lib/python2.7/site-packages/scipy/stats/_multivariate.py:528: RuntimeWarning: covariance is not positive-semidefinite.\n",
      "  out = random_state.multivariate_normal(mean, cov, size)\n"
     ]
    },
    {
     "data": {
      "text/plain": [
       "array([[-0.85786404, -0.85786404],\n",
       "       [ 0.10677728,  0.10677728],\n",
       "       [-0.96142851, -0.96142851],\n",
       "       [ 0.52898963,  0.52898963],\n",
       "       [ 0.26707587,  0.26707587]])"
      ]
     },
     "execution_count": 37,
     "metadata": {},
     "output_type": "execute_result"
    }
   ],
   "source": [
    "stats.multivariate_normal.rvs(mean=[0,0], cov=[[1,1],[1,1]], size=5)"
   ]
  },
  {
   "cell_type": "markdown",
   "metadata": {},
   "source": [
    "Bernoulli"
   ]
  },
  {
   "cell_type": "code",
   "execution_count": 38,
   "metadata": {
    "collapsed": false
   },
   "outputs": [
    {
     "data": {
      "text/plain": [
       "0.78300000000000003"
      ]
     },
     "execution_count": 38,
     "metadata": {},
     "output_type": "execute_result"
    }
   ],
   "source": [
    "np.mean(stats.bernoulli.rvs(p=0.8, size=1000))"
   ]
  },
  {
   "cell_type": "markdown",
   "metadata": {},
   "source": [
    "Describe"
   ]
  },
  {
   "cell_type": "code",
   "execution_count": 39,
   "metadata": {
    "collapsed": false
   },
   "outputs": [
    {
     "data": {
      "text/plain": [
       "DescribeResult(nobs=500, minmax=(-2.6872056714823711, 3.006121038895615), mean=0.02950087712076379, variance=0.97951493627758801, skewness=-0.007859622685887961, kurtosis=-0.19483280091937605)"
      ]
     },
     "execution_count": 39,
     "metadata": {},
     "output_type": "execute_result"
    }
   ],
   "source": [
    "stats.describe(stats.norm.rvs(loc=0, scale=1, size=500))"
   ]
  }
 ],
 "metadata": {
  "kernelspec": {
   "display_name": "Python 2",
   "language": "python",
   "name": "python2"
  },
  "language_info": {
   "codemirror_mode": {
    "name": "ipython",
    "version": 2
   },
   "file_extension": ".py",
   "mimetype": "text/x-python",
   "name": "python",
   "nbconvert_exporter": "python",
   "pygments_lexer": "ipython2",
   "version": "2.7.12"
  }
 },
 "nbformat": 4,
 "nbformat_minor": 2
}
